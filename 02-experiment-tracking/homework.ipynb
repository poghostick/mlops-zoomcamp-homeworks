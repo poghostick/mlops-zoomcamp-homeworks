{
 "cells": [
  {
   "cell_type": "markdown",
   "id": "d2b6404b-a3ac-46cc-a9b6-54f6f1519efa",
   "metadata": {},
   "source": [
    "# Homework 2"
   ]
  },
  {
   "cell_type": "markdown",
   "id": "b29dc81f-6256-44f3-92cb-7957fe6a6e22",
   "metadata": {},
   "source": [
    "## Q1. Install MLflow"
   ]
  },
  {
   "cell_type": "code",
   "execution_count": 1,
   "id": "fd34d40a-ace6-42b3-9012-743568f7956b",
   "metadata": {
    "execution": {
     "iopub.execute_input": "2022-06-03T08:59:23.115183Z",
     "iopub.status.busy": "2022-06-03T08:59:23.114778Z",
     "iopub.status.idle": "2022-06-03T08:59:23.719313Z",
     "shell.execute_reply": "2022-06-03T08:59:23.718561Z",
     "shell.execute_reply.started": "2022-06-03T08:59:23.115154Z"
    },
    "tags": []
   },
   "outputs": [
    {
     "data": {
      "text/plain": [
       "'1.26.0'"
      ]
     },
     "execution_count": 1,
     "metadata": {},
     "output_type": "execute_result"
    }
   ],
   "source": [
    "import mlflow\n",
    "mlflow.__version__"
   ]
  },
  {
   "cell_type": "markdown",
   "id": "ae11dccc-307e-40df-9cdf-3ff6bb42a998",
   "metadata": {},
   "source": [
    "## Q2. Download and preprocess the data"
   ]
  },
  {
   "cell_type": "code",
   "execution_count": 2,
   "id": "7666a036-bdf0-488e-8218-05c63615847c",
   "metadata": {
    "execution": {
     "iopub.execute_input": "2022-06-03T08:59:26.888584Z",
     "iopub.status.busy": "2022-06-03T08:59:26.888061Z",
     "iopub.status.idle": "2022-06-03T08:59:27.342019Z",
     "shell.execute_reply": "2022-06-03T08:59:27.341196Z",
     "shell.execute_reply.started": "2022-06-03T08:59:26.888556Z"
    },
    "tags": []
   },
   "outputs": [
    {
     "name": "stdout",
     "output_type": "stream",
     "text": [
      "File ‘data/green_tripdata_2021-01.parquet’ already there; not retrieving.\n",
      "\n",
      "File ‘data/green_tripdata_2021-02.parquet’ already there; not retrieving.\n",
      "\n",
      "File ‘data/green_tripdata_2021-03.parquet’ already there; not retrieving.\n",
      "\n"
     ]
    }
   ],
   "source": [
    "!mkdir -p data\n",
    "!wget -nc -P data/ https://s3.amazonaws.com/nyc-tlc/trip+data/green_tripdata_2021-01.parquet\n",
    "!wget -nc -P data/ https://s3.amazonaws.com/nyc-tlc/trip+data/green_tripdata_2021-02.parquet\n",
    "!wget -nc -P data/ https://s3.amazonaws.com/nyc-tlc/trip+data/green_tripdata_2021-03.parquet"
   ]
  },
  {
   "cell_type": "code",
   "execution_count": 3,
   "id": "8b3ecacf-66cc-4e38-8a5c-822b07586191",
   "metadata": {
    "execution": {
     "iopub.execute_input": "2022-06-03T08:59:35.047265Z",
     "iopub.status.busy": "2022-06-03T08:59:35.046772Z",
     "iopub.status.idle": "2022-06-03T08:59:37.514630Z",
     "shell.execute_reply": "2022-06-03T08:59:37.514022Z",
     "shell.execute_reply.started": "2022-06-03T08:59:35.047239Z"
    },
    "tags": []
   },
   "outputs": [],
   "source": [
    "%run homework/preprocess_data.py --raw_data_path data --dest_path ./output"
   ]
  },
  {
   "cell_type": "code",
   "execution_count": 4,
   "id": "6cd59bb7-55c7-437f-9304-60f10cdd245f",
   "metadata": {
    "execution": {
     "iopub.execute_input": "2022-06-03T08:59:44.833461Z",
     "iopub.status.busy": "2022-06-03T08:59:44.833015Z",
     "iopub.status.idle": "2022-06-03T08:59:44.953160Z",
     "shell.execute_reply": "2022-06-03T08:59:44.952369Z",
     "shell.execute_reply.started": "2022-06-03T08:59:44.833432Z"
    },
    "tags": []
   },
   "outputs": [
    {
     "name": "stdout",
     "output_type": "stream",
     "text": [
      "4\n"
     ]
    }
   ],
   "source": [
    "!ls output | wc -l"
   ]
  },
  {
   "cell_type": "markdown",
   "id": "4e083024-78ef-40b8-acfa-36d0b0d86f07",
   "metadata": {},
   "source": [
    "## Q3. Train a model with autolog"
   ]
  },
  {
   "cell_type": "code",
   "execution_count": 5,
   "id": "caaef7ad-87f2-46b9-b233-e73380c31b13",
   "metadata": {
    "execution": {
     "iopub.execute_input": "2022-06-03T08:59:51.513229Z",
     "iopub.status.busy": "2022-06-03T08:59:51.512915Z",
     "iopub.status.idle": "2022-06-03T09:00:10.244452Z",
     "shell.execute_reply": "2022-06-03T09:00:10.243840Z",
     "shell.execute_reply.started": "2022-06-03T08:59:51.513208Z"
    },
    "tags": []
   },
   "outputs": [
    {
     "name": "stderr",
     "output_type": "stream",
     "text": [
      "2022/06/03 10:59:51 INFO mlflow.store.db.utils: Creating initial MLflow database tables...\n",
      "2022/06/03 10:59:52 INFO mlflow.store.db.utils: Updating database tables\n",
      "INFO  [alembic.runtime.migration] Context impl SQLiteImpl.\n",
      "INFO  [alembic.runtime.migration] Will assume non-transactional DDL.\n",
      "INFO  [alembic.runtime.migration] Running upgrade  -> 451aebb31d03, add metric step\n",
      "INFO  [alembic.runtime.migration] Running upgrade 451aebb31d03 -> 90e64c465722, migrate user column to tags\n",
      "INFO  [alembic.runtime.migration] Running upgrade 90e64c465722 -> 181f10493468, allow nulls for metric values\n",
      "INFO  [alembic.runtime.migration] Running upgrade 181f10493468 -> df50e92ffc5e, Add Experiment Tags Table\n",
      "INFO  [alembic.runtime.migration] Running upgrade df50e92ffc5e -> 7ac759974ad8, Update run tags with larger limit\n",
      "INFO  [alembic.runtime.migration] Running upgrade 7ac759974ad8 -> 89d4b8295536, create latest metrics table\n",
      "INFO  [89d4b8295536_create_latest_metrics_table_py] Migration complete!\n",
      "INFO  [alembic.runtime.migration] Running upgrade 89d4b8295536 -> 2b4d017a5e9b, add model registry tables to db\n",
      "INFO  [2b4d017a5e9b_add_model_registry_tables_to_db_py] Adding registered_models and model_versions tables to database.\n",
      "INFO  [2b4d017a5e9b_add_model_registry_tables_to_db_py] Migration complete!\n",
      "INFO  [alembic.runtime.migration] Running upgrade 2b4d017a5e9b -> cfd24bdc0731, Update run status constraint with killed\n",
      "INFO  [alembic.runtime.migration] Running upgrade cfd24bdc0731 -> 0a8213491aaa, drop_duplicate_killed_constraint\n",
      "INFO  [alembic.runtime.migration] Running upgrade 0a8213491aaa -> 728d730b5ebd, add registered model tags table\n",
      "INFO  [alembic.runtime.migration] Running upgrade 728d730b5ebd -> 27a6a02d2cf1, add model version tags table\n",
      "INFO  [alembic.runtime.migration] Running upgrade 27a6a02d2cf1 -> 84291f40a231, add run_link to model_version\n",
      "INFO  [alembic.runtime.migration] Running upgrade 84291f40a231 -> a8c4a736bde6, allow nulls for run_id\n",
      "INFO  [alembic.runtime.migration] Running upgrade a8c4a736bde6 -> 39d1c3be5f05, add_is_nan_constraint_for_metrics_tables_if_necessary\n",
      "INFO  [alembic.runtime.migration] Running upgrade 39d1c3be5f05 -> c48cb773bb87, reset_default_value_for_is_nan_in_metrics_table_for_mysql\n",
      "INFO  [alembic.runtime.migration] Running upgrade c48cb773bb87 -> bd07f7e963c5, create index on run_uuid\n",
      "INFO  [alembic.runtime.migration] Context impl SQLiteImpl.\n",
      "INFO  [alembic.runtime.migration] Will assume non-transactional DDL.\n",
      "2022/06/03 10:59:53 INFO mlflow.tracking.fluent: Experiment with name 'nyc-taxi-experiment' does not exist. Creating a new experiment.\n",
      "2022/06/03 10:59:53 INFO mlflow.tracking.fluent: Autologging successfully enabled for sklearn.\n",
      "2022/06/03 11:00:09 WARNING mlflow.utils.autologging_utils: MLflow autologging encountered a warning: \"/home/arsen/miniconda3/envs/mlops-zoomcamp/lib/python3.9/site-packages/_distutils_hack/__init__.py:30: UserWarning: Setuptools is replacing distutils.\"\n"
     ]
    },
    {
     "name": "stdout",
     "output_type": "stream",
     "text": [
      "Number of parameters: 19\n"
     ]
    }
   ],
   "source": [
    "%run homework/train.py"
   ]
  },
  {
   "cell_type": "markdown",
   "id": "41ba9f6a-bb70-4f19-b5e1-ec3bd487afdb",
   "metadata": {},
   "source": [
    "## Q4: Launch the tracking server locally"
   ]
  },
  {
   "cell_type": "markdown",
   "id": "53b74d51-dd5e-4e82-add7-9ec5ffb1bd22",
   "metadata": {},
   "source": [
    "mlflow ui --backend-store-uri sqlite:///mlflow.db --default-artifact-root ./mlruns"
   ]
  },
  {
   "cell_type": "markdown",
   "id": "38ba610c-f816-4b6c-bcb4-7260d1a95977",
   "metadata": {},
   "source": [
    "default-artifact-root"
   ]
  },
  {
   "cell_type": "markdown",
   "id": "81cf5680-b8fd-4050-818d-bcacc2e1994b",
   "metadata": {},
   "source": [
    "## Q5: Tune the hyperparameters of the model"
   ]
  },
  {
   "cell_type": "code",
   "execution_count": 7,
   "id": "ca3b162b-e89a-42a1-b76f-eaa294ae23ca",
   "metadata": {
    "execution": {
     "iopub.execute_input": "2022-06-03T09:01:29.510749Z",
     "iopub.status.busy": "2022-06-03T09:01:29.509934Z",
     "iopub.status.idle": "2022-06-03T09:07:20.912215Z",
     "shell.execute_reply": "2022-06-03T09:07:20.911554Z",
     "shell.execute_reply.started": "2022-06-03T09:01:29.510719Z"
    },
    "tags": []
   },
   "outputs": [
    {
     "name": "stdout",
     "output_type": "stream",
     "text": [
      "100%|█████████| 50/50 [05:51<00:00,  7.03s/trial, best loss: 6.6284257482044735]\n"
     ]
    }
   ],
   "source": [
    "%run homework/hpo.py"
   ]
  },
  {
   "cell_type": "markdown",
   "id": "3afd0e0d-ce1d-418a-a98d-12c802b0f923",
   "metadata": {},
   "source": [
    "## Q6: Promote the best model to the model registry"
   ]
  },
  {
   "cell_type": "code",
   "execution_count": 8,
   "id": "f51678a8-ec9b-4bb4-a440-1258fc2c5c4e",
   "metadata": {
    "execution": {
     "iopub.execute_input": "2022-06-03T09:07:26.503331Z",
     "iopub.status.busy": "2022-06-03T09:07:26.502827Z",
     "iopub.status.idle": "2022-06-03T09:08:39.690677Z",
     "shell.execute_reply": "2022-06-03T09:08:39.690011Z",
     "shell.execute_reply.started": "2022-06-03T09:07:26.503305Z"
    },
    "tags": []
   },
   "outputs": [
    {
     "name": "stderr",
     "output_type": "stream",
     "text": [
      "2022/06/03 11:07:26 INFO mlflow.tracking.fluent: Experiment with name 'random-forest-best-models' does not exist. Creating a new experiment.\n",
      "Successfully registered model 'random-forest-best-models'.\n",
      "2022/06/03 11:08:39 INFO mlflow.tracking._model_registry.client: Waiting up to 300 seconds for model version to finish creation.                     Model name: random-forest-best-models, version 1\n",
      "Created version '1' of model 'random-forest-best-models'.\n"
     ]
    }
   ],
   "source": [
    "%run homework/register_model.py"
   ]
  },
  {
   "cell_type": "code",
   "execution_count": null,
   "id": "08d4737b-38a7-4640-bc3a-11d5fb6f6b23",
   "metadata": {},
   "outputs": [],
   "source": []
  }
 ],
 "metadata": {
  "kernelspec": {
   "display_name": "mlops-zoomcamp",
   "language": "python",
   "name": "mlops-zoomcamp"
  },
  "language_info": {
   "codemirror_mode": {
    "name": "ipython",
    "version": 3
   },
   "file_extension": ".py",
   "mimetype": "text/x-python",
   "name": "python",
   "nbconvert_exporter": "python",
   "pygments_lexer": "ipython3",
   "version": "3.9.12"
  }
 },
 "nbformat": 4,
 "nbformat_minor": 5
}
