{
 "cells": [
  {
   "cell_type": "markdown",
   "id": "d2b6404b-a3ac-46cc-a9b6-54f6f1519efa",
   "metadata": {},
   "source": [
    "# Homework 2"
   ]
  },
  {
   "cell_type": "markdown",
   "id": "b29dc81f-6256-44f3-92cb-7957fe6a6e22",
   "metadata": {},
   "source": [
    "## Q1. Install MLflow"
   ]
  },
  {
   "cell_type": "code",
   "execution_count": 1,
   "id": "fd34d40a-ace6-42b3-9012-743568f7956b",
   "metadata": {
    "execution": {
     "iopub.execute_input": "2022-05-30T14:12:17.794616Z",
     "iopub.status.busy": "2022-05-30T14:12:17.794238Z",
     "iopub.status.idle": "2022-05-30T14:12:18.321856Z",
     "shell.execute_reply": "2022-05-30T14:12:18.321292Z",
     "shell.execute_reply.started": "2022-05-30T14:12:17.794588Z"
    },
    "tags": []
   },
   "outputs": [
    {
     "data": {
      "text/plain": [
       "'1.26.0'"
      ]
     },
     "execution_count": 1,
     "metadata": {},
     "output_type": "execute_result"
    }
   ],
   "source": [
    "import mlflow\n",
    "mlflow.__version__"
   ]
  },
  {
   "cell_type": "markdown",
   "id": "ae11dccc-307e-40df-9cdf-3ff6bb42a998",
   "metadata": {},
   "source": [
    "## Q2. Download and preprocess the data"
   ]
  },
  {
   "cell_type": "code",
   "execution_count": 2,
   "id": "7666a036-bdf0-488e-8218-05c63615847c",
   "metadata": {
    "execution": {
     "iopub.execute_input": "2022-05-30T14:12:18.323063Z",
     "iopub.status.busy": "2022-05-30T14:12:18.322753Z",
     "iopub.status.idle": "2022-05-30T14:12:18.776831Z",
     "shell.execute_reply": "2022-05-30T14:12:18.776109Z",
     "shell.execute_reply.started": "2022-05-30T14:12:18.323045Z"
    },
    "tags": []
   },
   "outputs": [
    {
     "name": "stdout",
     "output_type": "stream",
     "text": [
      "File ‘data/green_tripdata_2021-01.parquet’ already there; not retrieving.\n",
      "\n",
      "File ‘data/green_tripdata_2021-02.parquet’ already there; not retrieving.\n",
      "\n",
      "File ‘data/green_tripdata_2021-03.parquet’ already there; not retrieving.\n",
      "\n"
     ]
    }
   ],
   "source": [
    "!mkdir -p data\n",
    "!wget -nc -P data/ https://s3.amazonaws.com/nyc-tlc/trip+data/green_tripdata_2021-01.parquet\n",
    "!wget -nc -P data/ https://s3.amazonaws.com/nyc-tlc/trip+data/green_tripdata_2021-02.parquet\n",
    "!wget -nc -P data/ https://s3.amazonaws.com/nyc-tlc/trip+data/green_tripdata_2021-03.parquet"
   ]
  },
  {
   "cell_type": "code",
   "execution_count": 3,
   "id": "8b3ecacf-66cc-4e38-8a5c-822b07586191",
   "metadata": {
    "execution": {
     "iopub.execute_input": "2022-05-30T14:12:18.778240Z",
     "iopub.status.busy": "2022-05-30T14:12:18.777904Z",
     "iopub.status.idle": "2022-05-30T14:12:21.357645Z",
     "shell.execute_reply": "2022-05-30T14:12:21.357100Z",
     "shell.execute_reply.started": "2022-05-30T14:12:18.778210Z"
    },
    "tags": []
   },
   "outputs": [],
   "source": [
    "%run homework/preprocess_data.py --raw_data_path data --dest_path ./output"
   ]
  },
  {
   "cell_type": "code",
   "execution_count": 4,
   "id": "6cd59bb7-55c7-437f-9304-60f10cdd245f",
   "metadata": {
    "execution": {
     "iopub.execute_input": "2022-05-30T14:12:21.358828Z",
     "iopub.status.busy": "2022-05-30T14:12:21.358632Z",
     "iopub.status.idle": "2022-05-30T14:12:21.476693Z",
     "shell.execute_reply": "2022-05-30T14:12:21.475894Z",
     "shell.execute_reply.started": "2022-05-30T14:12:21.358813Z"
    },
    "tags": []
   },
   "outputs": [
    {
     "name": "stdout",
     "output_type": "stream",
     "text": [
      "4\n"
     ]
    }
   ],
   "source": [
    "!ls output | wc -l"
   ]
  },
  {
   "cell_type": "markdown",
   "id": "4e083024-78ef-40b8-acfa-36d0b0d86f07",
   "metadata": {},
   "source": [
    "## Q3. Train a model with autolog"
   ]
  },
  {
   "cell_type": "code",
   "execution_count": 5,
   "id": "caaef7ad-87f2-46b9-b233-e73380c31b13",
   "metadata": {
    "execution": {
     "iopub.execute_input": "2022-05-30T14:12:21.478126Z",
     "iopub.status.busy": "2022-05-30T14:12:21.477784Z",
     "iopub.status.idle": "2022-05-30T14:12:38.537860Z",
     "shell.execute_reply": "2022-05-30T14:12:38.537258Z",
     "shell.execute_reply.started": "2022-05-30T14:12:21.478096Z"
    },
    "tags": []
   },
   "outputs": [
    {
     "name": "stderr",
     "output_type": "stream",
     "text": [
      "2022/05/30 16:12:21 INFO mlflow.tracking.fluent: Autologging successfully enabled for sklearn.\n",
      "2022/05/30 16:12:37 WARNING mlflow.utils.autologging_utils: MLflow autologging encountered a warning: \"/home/arsen/miniconda3/envs/mlops-zoomcamp/lib/python3.9/site-packages/_distutils_hack/__init__.py:30: UserWarning: Setuptools is replacing distutils.\"\n"
     ]
    },
    {
     "name": "stdout",
     "output_type": "stream",
     "text": [
      "Number of parameters: 19\n"
     ]
    }
   ],
   "source": [
    "%run homework/my_train.py"
   ]
  },
  {
   "cell_type": "markdown",
   "id": "41ba9f6a-bb70-4f19-b5e1-ec3bd487afdb",
   "metadata": {},
   "source": [
    "## Q4: Launch the tracking server locally"
   ]
  },
  {
   "cell_type": "markdown",
   "id": "53b74d51-dd5e-4e82-add7-9ec5ffb1bd22",
   "metadata": {},
   "source": [
    "mlflow ui --backend-store-uri sqlite:///mlflow.db --default-artifact-root ./mlruns"
   ]
  },
  {
   "cell_type": "markdown",
   "id": "38ba610c-f816-4b6c-bcb4-7260d1a95977",
   "metadata": {},
   "source": [
    "default-artifact-root"
   ]
  },
  {
   "cell_type": "markdown",
   "id": "81cf5680-b8fd-4050-818d-bcacc2e1994b",
   "metadata": {},
   "source": [
    "## Q5: Tune the hyperparameters of the model"
   ]
  },
  {
   "cell_type": "code",
   "execution_count": 6,
   "id": "ca3b162b-e89a-42a1-b76f-eaa294ae23ca",
   "metadata": {
    "execution": {
     "iopub.execute_input": "2022-05-30T14:12:38.538851Z",
     "iopub.status.busy": "2022-05-30T14:12:38.538614Z",
     "iopub.status.idle": "2022-05-30T14:18:20.981178Z",
     "shell.execute_reply": "2022-05-30T14:18:20.980330Z",
     "shell.execute_reply.started": "2022-05-30T14:12:38.538835Z"
    },
    "tags": []
   },
   "outputs": [
    {
     "name": "stdout",
     "output_type": "stream",
     "text": [
      "100%|█████████| 50/50 [05:42<00:00,  6.84s/trial, best loss: 6.6284257482044735]\n"
     ]
    }
   ],
   "source": [
    "%run homework/my_hpo.py"
   ]
  },
  {
   "cell_type": "markdown",
   "id": "3afd0e0d-ce1d-418a-a98d-12c802b0f923",
   "metadata": {},
   "source": [
    "## Q6: Promote the best model to the model registry"
   ]
  },
  {
   "cell_type": "code",
   "execution_count": 7,
   "id": "f51678a8-ec9b-4bb4-a440-1258fc2c5c4e",
   "metadata": {
    "execution": {
     "iopub.execute_input": "2022-05-30T14:18:20.982747Z",
     "iopub.status.busy": "2022-05-30T14:18:20.982313Z",
     "iopub.status.idle": "2022-05-30T14:19:26.465311Z",
     "shell.execute_reply": "2022-05-30T14:19:26.464515Z",
     "shell.execute_reply.started": "2022-05-30T14:18:20.982718Z"
    },
    "tags": []
   },
   "outputs": [
    {
     "name": "stderr",
     "output_type": "stream",
     "text": [
      "Registered model 'random-forest-best-models' already exists. Creating a new version of this model...\n",
      "2022/05/30 16:19:26 INFO mlflow.tracking._model_registry.client: Waiting up to 300 seconds for model version to finish creation.                     Model name: random-forest-best-models, version 3\n",
      "Created version '3' of model 'random-forest-best-models'.\n"
     ]
    }
   ],
   "source": [
    "%run homework/my_register_model.py"
   ]
  },
  {
   "cell_type": "code",
   "execution_count": null,
   "id": "08d4737b-38a7-4640-bc3a-11d5fb6f6b23",
   "metadata": {},
   "outputs": [],
   "source": []
  }
 ],
 "metadata": {
  "kernelspec": {
   "display_name": "mlops-zoomcamp",
   "language": "python",
   "name": "mlops-zoomcamp"
  },
  "language_info": {
   "codemirror_mode": {
    "name": "ipython",
    "version": 3
   },
   "file_extension": ".py",
   "mimetype": "text/x-python",
   "name": "python",
   "nbconvert_exporter": "python",
   "pygments_lexer": "ipython3",
   "version": "3.9.12"
  }
 },
 "nbformat": 4,
 "nbformat_minor": 5
}
