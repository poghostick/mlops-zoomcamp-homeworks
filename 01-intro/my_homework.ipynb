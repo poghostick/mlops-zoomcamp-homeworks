{
 "cells": [
  {
   "cell_type": "code",
   "execution_count": 1,
   "id": "97264733-4d2f-4dfe-8bc6-38a1de205359",
   "metadata": {
    "execution": {
     "iopub.execute_input": "2022-06-03T08:58:47.383489Z",
     "iopub.status.busy": "2022-06-03T08:58:47.383317Z",
     "iopub.status.idle": "2022-06-03T08:58:48.391259Z",
     "shell.execute_reply": "2022-06-03T08:58:48.390846Z",
     "shell.execute_reply.started": "2022-06-03T08:58:47.383470Z"
    },
    "tags": []
   },
   "outputs": [],
   "source": [
    "import matplotlib.pyplot as plt\n",
    "import numpy as np\n",
    "import seaborn as sns\n",
    "import pandas as pd\n",
    "from sklearn.feature_extraction import DictVectorizer\n",
    "from sklearn.linear_model import LinearRegression\n",
    "from sklearn.metrics import mean_squared_error"
   ]
  },
  {
   "cell_type": "code",
   "execution_count": 2,
   "id": "993ba91b-ac07-447e-8e57-3d2b9b1ebea9",
   "metadata": {
    "execution": {
     "iopub.execute_input": "2022-06-03T08:58:48.392024Z",
     "iopub.status.busy": "2022-06-03T08:58:48.391813Z",
     "iopub.status.idle": "2022-06-03T08:58:48.516262Z",
     "shell.execute_reply": "2022-06-03T08:58:48.515588Z",
     "shell.execute_reply.started": "2022-06-03T08:58:48.392010Z"
    },
    "tags": []
   },
   "outputs": [],
   "source": [
    "df_jan = pd.read_parquet('data/fhv_tripdata_2021-01.parquet')"
   ]
  },
  {
   "cell_type": "markdown",
   "id": "9ee95a1a-6080-45a9-b687-354745b5f1ed",
   "metadata": {},
   "source": [
    "### Q1. Downloading the data"
   ]
  },
  {
   "cell_type": "code",
   "execution_count": 3,
   "id": "01795b84-364a-4862-bc27-64707e4fbb4c",
   "metadata": {
    "execution": {
     "iopub.execute_input": "2022-06-03T08:58:48.517467Z",
     "iopub.status.busy": "2022-06-03T08:58:48.517195Z",
     "iopub.status.idle": "2022-06-03T08:58:48.524462Z",
     "shell.execute_reply": "2022-06-03T08:58:48.523975Z",
     "shell.execute_reply.started": "2022-06-03T08:58:48.517441Z"
    },
    "tags": []
   },
   "outputs": [
    {
     "data": {
      "text/plain": [
       "1154112"
      ]
     },
     "execution_count": 3,
     "metadata": {},
     "output_type": "execute_result"
    }
   ],
   "source": [
    "df_jan.shape[0]"
   ]
  },
  {
   "cell_type": "markdown",
   "id": "aecb8f35-aec5-4ad4-bf13-23f3a3a41294",
   "metadata": {},
   "source": [
    "### Q2. Computing duration"
   ]
  },
  {
   "cell_type": "code",
   "execution_count": 4,
   "id": "ecae9a72-0c1b-4b69-9221-4ac010bdc2f9",
   "metadata": {
    "execution": {
     "iopub.execute_input": "2022-06-03T08:58:48.525332Z",
     "iopub.status.busy": "2022-06-03T08:58:48.525146Z",
     "iopub.status.idle": "2022-06-03T08:58:48.537511Z",
     "shell.execute_reply": "2022-06-03T08:58:48.537012Z",
     "shell.execute_reply.started": "2022-06-03T08:58:48.525315Z"
    },
    "tags": []
   },
   "outputs": [
    {
     "data": {
      "text/html": [
       "<div>\n",
       "<style scoped>\n",
       "    .dataframe tbody tr th:only-of-type {\n",
       "        vertical-align: middle;\n",
       "    }\n",
       "\n",
       "    .dataframe tbody tr th {\n",
       "        vertical-align: top;\n",
       "    }\n",
       "\n",
       "    .dataframe thead th {\n",
       "        text-align: right;\n",
       "    }\n",
       "</style>\n",
       "<table border=\"1\" class=\"dataframe\">\n",
       "  <thead>\n",
       "    <tr style=\"text-align: right;\">\n",
       "      <th></th>\n",
       "      <th>dispatching_base_num</th>\n",
       "      <th>pickup_datetime</th>\n",
       "      <th>dropOff_datetime</th>\n",
       "      <th>PUlocationID</th>\n",
       "      <th>DOlocationID</th>\n",
       "      <th>SR_Flag</th>\n",
       "      <th>Affiliated_base_number</th>\n",
       "    </tr>\n",
       "  </thead>\n",
       "  <tbody>\n",
       "    <tr>\n",
       "      <th>0</th>\n",
       "      <td>B00009</td>\n",
       "      <td>2021-01-01 00:27:00</td>\n",
       "      <td>2021-01-01 00:44:00</td>\n",
       "      <td>NaN</td>\n",
       "      <td>NaN</td>\n",
       "      <td>None</td>\n",
       "      <td>B00009</td>\n",
       "    </tr>\n",
       "    <tr>\n",
       "      <th>1</th>\n",
       "      <td>B00009</td>\n",
       "      <td>2021-01-01 00:50:00</td>\n",
       "      <td>2021-01-01 01:07:00</td>\n",
       "      <td>NaN</td>\n",
       "      <td>NaN</td>\n",
       "      <td>None</td>\n",
       "      <td>B00009</td>\n",
       "    </tr>\n",
       "    <tr>\n",
       "      <th>2</th>\n",
       "      <td>B00013</td>\n",
       "      <td>2021-01-01 00:01:00</td>\n",
       "      <td>2021-01-01 01:51:00</td>\n",
       "      <td>NaN</td>\n",
       "      <td>NaN</td>\n",
       "      <td>None</td>\n",
       "      <td>B00013</td>\n",
       "    </tr>\n",
       "    <tr>\n",
       "      <th>3</th>\n",
       "      <td>B00037</td>\n",
       "      <td>2021-01-01 00:13:09</td>\n",
       "      <td>2021-01-01 00:21:26</td>\n",
       "      <td>NaN</td>\n",
       "      <td>72.0</td>\n",
       "      <td>None</td>\n",
       "      <td>B00037</td>\n",
       "    </tr>\n",
       "    <tr>\n",
       "      <th>4</th>\n",
       "      <td>B00037</td>\n",
       "      <td>2021-01-01 00:38:31</td>\n",
       "      <td>2021-01-01 00:53:44</td>\n",
       "      <td>NaN</td>\n",
       "      <td>61.0</td>\n",
       "      <td>None</td>\n",
       "      <td>B00037</td>\n",
       "    </tr>\n",
       "  </tbody>\n",
       "</table>\n",
       "</div>"
      ],
      "text/plain": [
       "  dispatching_base_num     pickup_datetime    dropOff_datetime  PUlocationID  \\\n",
       "0               B00009 2021-01-01 00:27:00 2021-01-01 00:44:00           NaN   \n",
       "1               B00009 2021-01-01 00:50:00 2021-01-01 01:07:00           NaN   \n",
       "2               B00013 2021-01-01 00:01:00 2021-01-01 01:51:00           NaN   \n",
       "3               B00037 2021-01-01 00:13:09 2021-01-01 00:21:26           NaN   \n",
       "4               B00037 2021-01-01 00:38:31 2021-01-01 00:53:44           NaN   \n",
       "\n",
       "   DOlocationID SR_Flag Affiliated_base_number  \n",
       "0           NaN    None                 B00009  \n",
       "1           NaN    None                 B00009  \n",
       "2           NaN    None                 B00013  \n",
       "3          72.0    None                 B00037  \n",
       "4          61.0    None                 B00037  "
      ]
     },
     "execution_count": 4,
     "metadata": {},
     "output_type": "execute_result"
    }
   ],
   "source": [
    "df_jan.head()"
   ]
  },
  {
   "cell_type": "code",
   "execution_count": 5,
   "id": "d8d42ca9-a9ba-4a20-b182-3ec82602e077",
   "metadata": {
    "execution": {
     "iopub.execute_input": "2022-06-03T08:58:48.538459Z",
     "iopub.status.busy": "2022-06-03T08:58:48.538218Z",
     "iopub.status.idle": "2022-06-03T08:58:55.112621Z",
     "shell.execute_reply": "2022-06-03T08:58:55.112047Z",
     "shell.execute_reply.started": "2022-06-03T08:58:48.538439Z"
    },
    "tags": []
   },
   "outputs": [],
   "source": [
    "df_jan.dropOff_datetime = pd.to_datetime(df_jan.dropOff_datetime)\n",
    "df_jan.pickup_datetime = pd.to_datetime(df_jan.pickup_datetime)\n",
    "df_jan['duration'] = df_jan.dropOff_datetime - df_jan.pickup_datetime\n",
    "df_jan['duration'] = df_jan['duration'].apply(lambda td: td.total_seconds() / 60)"
   ]
  },
  {
   "cell_type": "code",
   "execution_count": 6,
   "id": "c502e4f9-d50c-4607-912a-17984e96ad30",
   "metadata": {
    "execution": {
     "iopub.execute_input": "2022-06-03T08:58:55.113330Z",
     "iopub.status.busy": "2022-06-03T08:58:55.113187Z",
     "iopub.status.idle": "2022-06-03T08:58:55.117647Z",
     "shell.execute_reply": "2022-06-03T08:58:55.117106Z",
     "shell.execute_reply.started": "2022-06-03T08:58:55.113316Z"
    },
    "tags": []
   },
   "outputs": [
    {
     "data": {
      "text/plain": [
       "19.1672240937939"
      ]
     },
     "execution_count": 6,
     "metadata": {},
     "output_type": "execute_result"
    }
   ],
   "source": [
    "df_jan['duration'].mean()"
   ]
  },
  {
   "cell_type": "markdown",
   "id": "9aeacab3-a05c-439a-a60c-dd9f210921dc",
   "metadata": {},
   "source": [
    "### Data preparation"
   ]
  },
  {
   "cell_type": "code",
   "execution_count": 7,
   "id": "ebfeb492-e214-442f-b66f-213d2bc0aeb7",
   "metadata": {
    "execution": {
     "iopub.execute_input": "2022-06-03T08:58:55.119695Z",
     "iopub.status.busy": "2022-06-03T08:58:55.119197Z",
     "iopub.status.idle": "2022-06-03T08:58:55.206059Z",
     "shell.execute_reply": "2022-06-03T08:58:55.205538Z",
     "shell.execute_reply.started": "2022-06-03T08:58:55.119673Z"
    },
    "tags": []
   },
   "outputs": [],
   "source": [
    "df_jan = df_jan.loc[(df_jan['duration'] >= 1) & (df_jan['duration'] <= 60)].copy()"
   ]
  },
  {
   "cell_type": "code",
   "execution_count": 8,
   "id": "fba1de53-f361-4748-aaab-9ee2319ec570",
   "metadata": {
    "execution": {
     "iopub.execute_input": "2022-06-03T08:58:55.206839Z",
     "iopub.status.busy": "2022-06-03T08:58:55.206591Z",
     "iopub.status.idle": "2022-06-03T08:58:55.209815Z",
     "shell.execute_reply": "2022-06-03T08:58:55.209445Z",
     "shell.execute_reply.started": "2022-06-03T08:58:55.206825Z"
    },
    "tags": []
   },
   "outputs": [
    {
     "data": {
      "text/plain": [
       "(1109826, 8)"
      ]
     },
     "execution_count": 8,
     "metadata": {},
     "output_type": "execute_result"
    }
   ],
   "source": [
    "df_jan.shape"
   ]
  },
  {
   "cell_type": "markdown",
   "id": "876216cf-98ec-48b7-b2f5-746c163cf18b",
   "metadata": {},
   "source": [
    "### Q3. Missing values"
   ]
  },
  {
   "cell_type": "code",
   "execution_count": 9,
   "id": "50a84000-9244-4ae0-9705-b0c1fdd5a1ae",
   "metadata": {
    "execution": {
     "iopub.execute_input": "2022-06-03T08:58:55.210529Z",
     "iopub.status.busy": "2022-06-03T08:58:55.210371Z",
     "iopub.status.idle": "2022-06-03T08:58:55.220403Z",
     "shell.execute_reply": "2022-06-03T08:58:55.219938Z",
     "shell.execute_reply.started": "2022-06-03T08:58:55.210516Z"
    },
    "tags": []
   },
   "outputs": [
    {
     "data": {
      "text/html": [
       "<div>\n",
       "<style scoped>\n",
       "    .dataframe tbody tr th:only-of-type {\n",
       "        vertical-align: middle;\n",
       "    }\n",
       "\n",
       "    .dataframe tbody tr th {\n",
       "        vertical-align: top;\n",
       "    }\n",
       "\n",
       "    .dataframe thead th {\n",
       "        text-align: right;\n",
       "    }\n",
       "</style>\n",
       "<table border=\"1\" class=\"dataframe\">\n",
       "  <thead>\n",
       "    <tr style=\"text-align: right;\">\n",
       "      <th></th>\n",
       "      <th>dispatching_base_num</th>\n",
       "      <th>pickup_datetime</th>\n",
       "      <th>dropOff_datetime</th>\n",
       "      <th>PUlocationID</th>\n",
       "      <th>DOlocationID</th>\n",
       "      <th>SR_Flag</th>\n",
       "      <th>Affiliated_base_number</th>\n",
       "      <th>duration</th>\n",
       "    </tr>\n",
       "  </thead>\n",
       "  <tbody>\n",
       "    <tr>\n",
       "      <th>0</th>\n",
       "      <td>B00009</td>\n",
       "      <td>2021-01-01 00:27:00</td>\n",
       "      <td>2021-01-01 00:44:00</td>\n",
       "      <td>NaN</td>\n",
       "      <td>NaN</td>\n",
       "      <td>None</td>\n",
       "      <td>B00009</td>\n",
       "      <td>17.000000</td>\n",
       "    </tr>\n",
       "    <tr>\n",
       "      <th>1</th>\n",
       "      <td>B00009</td>\n",
       "      <td>2021-01-01 00:50:00</td>\n",
       "      <td>2021-01-01 01:07:00</td>\n",
       "      <td>NaN</td>\n",
       "      <td>NaN</td>\n",
       "      <td>None</td>\n",
       "      <td>B00009</td>\n",
       "      <td>17.000000</td>\n",
       "    </tr>\n",
       "    <tr>\n",
       "      <th>3</th>\n",
       "      <td>B00037</td>\n",
       "      <td>2021-01-01 00:13:09</td>\n",
       "      <td>2021-01-01 00:21:26</td>\n",
       "      <td>NaN</td>\n",
       "      <td>72.0</td>\n",
       "      <td>None</td>\n",
       "      <td>B00037</td>\n",
       "      <td>8.283333</td>\n",
       "    </tr>\n",
       "    <tr>\n",
       "      <th>4</th>\n",
       "      <td>B00037</td>\n",
       "      <td>2021-01-01 00:38:31</td>\n",
       "      <td>2021-01-01 00:53:44</td>\n",
       "      <td>NaN</td>\n",
       "      <td>61.0</td>\n",
       "      <td>None</td>\n",
       "      <td>B00037</td>\n",
       "      <td>15.216667</td>\n",
       "    </tr>\n",
       "    <tr>\n",
       "      <th>5</th>\n",
       "      <td>B00037</td>\n",
       "      <td>2021-01-01 00:59:02</td>\n",
       "      <td>2021-01-01 01:08:05</td>\n",
       "      <td>NaN</td>\n",
       "      <td>71.0</td>\n",
       "      <td>None</td>\n",
       "      <td>B00037</td>\n",
       "      <td>9.050000</td>\n",
       "    </tr>\n",
       "  </tbody>\n",
       "</table>\n",
       "</div>"
      ],
      "text/plain": [
       "  dispatching_base_num     pickup_datetime    dropOff_datetime  PUlocationID  \\\n",
       "0               B00009 2021-01-01 00:27:00 2021-01-01 00:44:00           NaN   \n",
       "1               B00009 2021-01-01 00:50:00 2021-01-01 01:07:00           NaN   \n",
       "3               B00037 2021-01-01 00:13:09 2021-01-01 00:21:26           NaN   \n",
       "4               B00037 2021-01-01 00:38:31 2021-01-01 00:53:44           NaN   \n",
       "5               B00037 2021-01-01 00:59:02 2021-01-01 01:08:05           NaN   \n",
       "\n",
       "   DOlocationID SR_Flag Affiliated_base_number   duration  \n",
       "0           NaN    None                 B00009  17.000000  \n",
       "1           NaN    None                 B00009  17.000000  \n",
       "3          72.0    None                 B00037   8.283333  \n",
       "4          61.0    None                 B00037  15.216667  \n",
       "5          71.0    None                 B00037   9.050000  "
      ]
     },
     "execution_count": 9,
     "metadata": {},
     "output_type": "execute_result"
    }
   ],
   "source": [
    "df_jan.head()"
   ]
  },
  {
   "cell_type": "code",
   "execution_count": 10,
   "id": "ce2d0515-5dc4-4fbf-8f36-bd517efb1dd0",
   "metadata": {
    "execution": {
     "iopub.execute_input": "2022-06-03T08:58:55.221083Z",
     "iopub.status.busy": "2022-06-03T08:58:55.220913Z",
     "iopub.status.idle": "2022-06-03T08:58:55.237270Z",
     "shell.execute_reply": "2022-06-03T08:58:55.236802Z",
     "shell.execute_reply.started": "2022-06-03T08:58:55.221068Z"
    },
    "tags": []
   },
   "outputs": [],
   "source": [
    "df_jan.loc[:, ['PUlocationID', 'DOlocationID']] = df_jan.loc[:, ['PUlocationID', 'DOlocationID']].fillna(-1)"
   ]
  },
  {
   "cell_type": "code",
   "execution_count": 11,
   "id": "af05df42-b1cf-4516-8b62-84c06895192f",
   "metadata": {
    "execution": {
     "iopub.execute_input": "2022-06-03T08:58:55.238032Z",
     "iopub.status.busy": "2022-06-03T08:58:55.237841Z",
     "iopub.status.idle": "2022-06-03T08:58:55.242897Z",
     "shell.execute_reply": "2022-06-03T08:58:55.242501Z",
     "shell.execute_reply.started": "2022-06-03T08:58:55.238017Z"
    },
    "tags": []
   },
   "outputs": [
    {
     "data": {
      "text/plain": [
       "0.8352732770722617"
      ]
     },
     "execution_count": 11,
     "metadata": {},
     "output_type": "execute_result"
    }
   ],
   "source": [
    "(df_jan['PUlocationID'] == -1).mean()"
   ]
  },
  {
   "cell_type": "markdown",
   "id": "cc404cf6-4101-4718-8f8a-46bab724fa0e",
   "metadata": {},
   "source": [
    "### Q4. One-hot encoding"
   ]
  },
  {
   "cell_type": "code",
   "execution_count": 12,
   "id": "8aa4d981-9ba2-42fd-ad9e-e781c797cdee",
   "metadata": {
    "execution": {
     "iopub.execute_input": "2022-06-03T08:58:55.243519Z",
     "iopub.status.busy": "2022-06-03T08:58:55.243385Z",
     "iopub.status.idle": "2022-06-03T08:58:59.362476Z",
     "shell.execute_reply": "2022-06-03T08:58:59.361997Z",
     "shell.execute_reply.started": "2022-06-03T08:58:55.243506Z"
    },
    "tags": []
   },
   "outputs": [],
   "source": [
    "dv = DictVectorizer()\n",
    "df_jan_dict = df_jan[['PUlocationID', 'DOlocationID']].astype('str').to_dict(orient='records')\n",
    "df_jan_val = dv.fit_transform(df_jan_dict)"
   ]
  },
  {
   "cell_type": "code",
   "execution_count": 13,
   "id": "2cf24e44-9a35-4602-9a30-5ce5018f923e",
   "metadata": {
    "execution": {
     "iopub.execute_input": "2022-06-03T08:58:59.363192Z",
     "iopub.status.busy": "2022-06-03T08:58:59.363052Z",
     "iopub.status.idle": "2022-06-03T08:58:59.366460Z",
     "shell.execute_reply": "2022-06-03T08:58:59.365970Z",
     "shell.execute_reply.started": "2022-06-03T08:58:59.363179Z"
    },
    "tags": []
   },
   "outputs": [
    {
     "data": {
      "text/plain": [
       "(1109826, 525)"
      ]
     },
     "execution_count": 13,
     "metadata": {},
     "output_type": "execute_result"
    }
   ],
   "source": [
    "df_jan_val.shape"
   ]
  },
  {
   "cell_type": "markdown",
   "id": "de94393a-43d4-44d3-8615-37d4adf9bc4c",
   "metadata": {},
   "source": [
    "### Q5. Training a model"
   ]
  },
  {
   "cell_type": "code",
   "execution_count": 14,
   "id": "4248a13f-67c5-41b9-bd38-0cd2d1b40d25",
   "metadata": {
    "execution": {
     "iopub.execute_input": "2022-06-03T08:58:59.367167Z",
     "iopub.status.busy": "2022-06-03T08:58:59.366984Z",
     "iopub.status.idle": "2022-06-03T08:59:05.674549Z",
     "shell.execute_reply": "2022-06-03T08:59:05.674119Z",
     "shell.execute_reply.started": "2022-06-03T08:58:59.367152Z"
    },
    "tags": []
   },
   "outputs": [
    {
     "data": {
      "text/plain": [
       "LinearRegression()"
      ]
     },
     "execution_count": 14,
     "metadata": {},
     "output_type": "execute_result"
    }
   ],
   "source": [
    "lin_reg = LinearRegression()\n",
    "lin_reg.fit(df_jan_val, df_jan['duration'])"
   ]
  },
  {
   "cell_type": "code",
   "execution_count": 15,
   "id": "fdcc5c3b-f368-499a-91b6-5ac9a9a5b4de",
   "metadata": {
    "execution": {
     "iopub.execute_input": "2022-06-03T08:59:05.675672Z",
     "iopub.status.busy": "2022-06-03T08:59:05.675373Z",
     "iopub.status.idle": "2022-06-03T08:59:05.686699Z",
     "shell.execute_reply": "2022-06-03T08:59:05.686055Z",
     "shell.execute_reply.started": "2022-06-03T08:59:05.675647Z"
    },
    "tags": []
   },
   "outputs": [],
   "source": [
    "y_pred = lin_reg.predict(df_jan_val)"
   ]
  },
  {
   "cell_type": "code",
   "execution_count": 16,
   "id": "ae7c7217-c83e-4f1b-94ca-51cc32bef59e",
   "metadata": {
    "execution": {
     "iopub.execute_input": "2022-06-03T08:59:05.687976Z",
     "iopub.status.busy": "2022-06-03T08:59:05.687635Z",
     "iopub.status.idle": "2022-06-03T08:59:05.701062Z",
     "shell.execute_reply": "2022-06-03T08:59:05.700369Z",
     "shell.execute_reply.started": "2022-06-03T08:59:05.687951Z"
    },
    "tags": []
   },
   "outputs": [
    {
     "data": {
      "text/plain": [
       "10.528519107205959"
      ]
     },
     "execution_count": 16,
     "metadata": {},
     "output_type": "execute_result"
    }
   ],
   "source": [
    "mean_squared_error(df_jan['duration'], y_pred)**0.5"
   ]
  },
  {
   "cell_type": "markdown",
   "id": "c01790a5-f15f-46f8-a4ce-2b9e22f6d9fc",
   "metadata": {},
   "source": [
    "### Q6. Evaluating the model"
   ]
  },
  {
   "cell_type": "code",
   "execution_count": 17,
   "id": "a7d3b68c-f9df-4a11-865a-e7d6c2b1839a",
   "metadata": {
    "execution": {
     "iopub.execute_input": "2022-06-03T08:59:05.702163Z",
     "iopub.status.busy": "2022-06-03T08:59:05.701922Z",
     "iopub.status.idle": "2022-06-03T08:59:15.589402Z",
     "shell.execute_reply": "2022-06-03T08:59:15.588920Z",
     "shell.execute_reply.started": "2022-06-03T08:59:05.702144Z"
    },
    "tags": []
   },
   "outputs": [
    {
     "data": {
      "text/plain": [
       "11.01428314240328"
      ]
     },
     "execution_count": 17,
     "metadata": {},
     "output_type": "execute_result"
    }
   ],
   "source": [
    "df_feb = pd.read_parquet('data/fhv_tripdata_2021-02.parquet')\n",
    "df_feb.dropOff_datetime = pd.to_datetime(df_feb.dropOff_datetime)\n",
    "df_feb.pickup_datetime = pd.to_datetime(df_feb.pickup_datetime)\n",
    "df_feb['duration'] = df_feb.dropOff_datetime - df_feb.pickup_datetime\n",
    "df_feb['duration'] = df_feb['duration'].apply(lambda td: td.total_seconds() / 60)\n",
    "df_feb = df_feb.loc[(df_feb['duration'] >= 1) & (df_feb['duration'] <= 60)].copy()\n",
    "df_feb.loc[:, ['PUlocationID', 'DOlocationID']] = df_feb.loc[:, ['PUlocationID', 'DOlocationID']].fillna(-1)\n",
    "df_feb_dict = df_feb[['PUlocationID', 'DOlocationID']].astype('str').to_dict(orient='records')\n",
    "df_feb_val = dv.transform(df_feb_dict)\n",
    "y_valid_pred = lin_reg.predict(df_feb_val)\n",
    "mean_squared_error(df_feb['duration'], y_valid_pred)**0.5"
   ]
  }
 ],
 "metadata": {
  "kernelspec": {
   "display_name": "mlops-zoomcamp",
   "language": "python",
   "name": "mlops-zoomcamp"
  },
  "language_info": {
   "codemirror_mode": {
    "name": "ipython",
    "version": 3
   },
   "file_extension": ".py",
   "mimetype": "text/x-python",
   "name": "python",
   "nbconvert_exporter": "python",
   "pygments_lexer": "ipython3",
   "version": "3.9.12"
  }
 },
 "nbformat": 4,
 "nbformat_minor": 5
}
