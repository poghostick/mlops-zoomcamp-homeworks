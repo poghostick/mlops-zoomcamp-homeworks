{
 "cells": [
  {
   "cell_type": "markdown",
   "id": "8d6a74fe-48a9-434f-9ae3-4b3cfa40614b",
   "metadata": {},
   "source": [
    "# HW 4"
   ]
  },
  {
   "cell_type": "code",
   "execution_count": 1,
   "id": "0ef880a0",
   "metadata": {
    "execution": {
     "iopub.execute_input": "2022-06-27T17:22:18.934282Z",
     "iopub.status.busy": "2022-06-27T17:22:18.934102Z",
     "iopub.status.idle": "2022-06-27T17:22:19.191459Z",
     "shell.execute_reply": "2022-06-27T17:22:19.190995Z",
     "shell.execute_reply.started": "2022-06-27T17:22:18.934262Z"
    },
    "tags": []
   },
   "outputs": [],
   "source": [
    "import pickle\n",
    "import pandas as pd"
   ]
  },
  {
   "cell_type": "code",
   "execution_count": 2,
   "id": "7836ccfd",
   "metadata": {
    "execution": {
     "iopub.execute_input": "2022-06-27T17:22:19.192245Z",
     "iopub.status.busy": "2022-06-27T17:22:19.192009Z",
     "iopub.status.idle": "2022-06-27T17:22:19.487020Z",
     "shell.execute_reply": "2022-06-27T17:22:19.486545Z",
     "shell.execute_reply.started": "2022-06-27T17:22:19.192231Z"
    },
    "tags": []
   },
   "outputs": [],
   "source": [
    "with open('model.bin', 'rb') as f_in:\n",
    "    dv, lr = pickle.load(f_in)"
   ]
  },
  {
   "cell_type": "code",
   "execution_count": 3,
   "id": "41c08294",
   "metadata": {
    "execution": {
     "iopub.execute_input": "2022-06-27T17:22:19.487790Z",
     "iopub.status.busy": "2022-06-27T17:22:19.487590Z",
     "iopub.status.idle": "2022-06-27T17:22:19.491428Z",
     "shell.execute_reply": "2022-06-27T17:22:19.491023Z",
     "shell.execute_reply.started": "2022-06-27T17:22:19.487775Z"
    },
    "tags": []
   },
   "outputs": [],
   "source": [
    "categorical = ['PUlocationID', 'DOlocationID']\n",
    "\n",
    "\n",
    "def read_data(filename):\n",
    "    df = pd.read_parquet(filename)\n",
    "    \n",
    "    df['duration'] = df.dropOff_datetime - df.pickup_datetime\n",
    "    df['duration'] = df.duration.dt.total_seconds() / 60\n",
    "\n",
    "    df = df[(df.duration >= 1) & (df.duration <= 60)].copy()\n",
    "\n",
    "    df[categorical] = df[categorical].fillna(-1).astype('int').astype('str')\n",
    "    \n",
    "    return df"
   ]
  },
  {
   "cell_type": "code",
   "execution_count": 4,
   "id": "4854399a",
   "metadata": {
    "execution": {
     "iopub.execute_input": "2022-06-27T17:22:19.492179Z",
     "iopub.status.busy": "2022-06-27T17:22:19.491916Z",
     "iopub.status.idle": "2022-06-27T17:22:21.864112Z",
     "shell.execute_reply": "2022-06-27T17:22:21.863504Z",
     "shell.execute_reply.started": "2022-06-27T17:22:19.492165Z"
    },
    "tags": []
   },
   "outputs": [],
   "source": [
    "year = 2021\n",
    "month = 2\n",
    "\n",
    "df = read_data(f'https://nyc-tlc.s3.amazonaws.com/trip+data/fhv_tripdata_{year:04d}-{month:02d}.parquet')"
   ]
  },
  {
   "cell_type": "code",
   "execution_count": 5,
   "id": "669fda0a",
   "metadata": {
    "execution": {
     "iopub.execute_input": "2022-06-27T17:22:21.864833Z",
     "iopub.status.busy": "2022-06-27T17:22:21.864689Z",
     "iopub.status.idle": "2022-06-27T17:22:25.072429Z",
     "shell.execute_reply": "2022-06-27T17:22:25.071844Z",
     "shell.execute_reply.started": "2022-06-27T17:22:21.864819Z"
    },
    "tags": []
   },
   "outputs": [],
   "source": [
    "dicts = df[categorical].to_dict(orient='records')\n",
    "X_val = dv.transform(dicts)\n",
    "y_pred = lr.predict(X_val)"
   ]
  },
  {
   "cell_type": "markdown",
   "id": "8a709635-d4ff-4d3f-b3b1-b84a5a71f487",
   "metadata": {},
   "source": [
    "## Q1. Notebook"
   ]
  },
  {
   "cell_type": "code",
   "execution_count": 6,
   "id": "011c440e-88d8-4823-90c8-40c6893ca837",
   "metadata": {
    "execution": {
     "iopub.execute_input": "2022-06-27T17:22:25.073139Z",
     "iopub.status.busy": "2022-06-27T17:22:25.072997Z",
     "iopub.status.idle": "2022-06-27T17:22:25.075843Z",
     "shell.execute_reply": "2022-06-27T17:22:25.075337Z",
     "shell.execute_reply.started": "2022-06-27T17:22:25.073126Z"
    },
    "tags": []
   },
   "outputs": [],
   "source": [
    "import numpy as np"
   ]
  },
  {
   "cell_type": "code",
   "execution_count": 7,
   "id": "6ddcfc00-7627-4ee8-86fa-49f39e7b7a2c",
   "metadata": {
    "execution": {
     "iopub.execute_input": "2022-06-27T17:22:25.077929Z",
     "iopub.status.busy": "2022-06-27T17:22:25.077667Z",
     "iopub.status.idle": "2022-06-27T17:22:25.087599Z",
     "shell.execute_reply": "2022-06-27T17:22:25.086934Z",
     "shell.execute_reply.started": "2022-06-27T17:22:25.077909Z"
    },
    "tags": []
   },
   "outputs": [
    {
     "data": {
      "text/plain": [
       "16.191691679979066"
      ]
     },
     "execution_count": 7,
     "metadata": {},
     "output_type": "execute_result"
    }
   ],
   "source": [
    "np.mean(y_pred)"
   ]
  },
  {
   "cell_type": "markdown",
   "id": "b03a90c1-8b1e-4a50-a745-de4ee3eb59a0",
   "metadata": {},
   "source": [
    "## Q2. Preparing the output"
   ]
  },
  {
   "cell_type": "code",
   "execution_count": 8,
   "id": "6bc56458-dd61-4dba-8081-65b6820d28b3",
   "metadata": {
    "execution": {
     "iopub.execute_input": "2022-06-27T17:22:25.088939Z",
     "iopub.status.busy": "2022-06-27T17:22:25.088624Z",
     "iopub.status.idle": "2022-06-27T17:22:25.888655Z",
     "shell.execute_reply": "2022-06-27T17:22:25.888059Z",
     "shell.execute_reply.started": "2022-06-27T17:22:25.088910Z"
    },
    "tags": []
   },
   "outputs": [],
   "source": [
    "output_file = 'predictions'\n",
    "df['ride_id'] = f'{year:04d}/{month:02d}_' + df.index.astype('str')\n",
    "df['pred'] = y_pred"
   ]
  },
  {
   "cell_type": "code",
   "execution_count": 9,
   "id": "bcaaec61-6bff-42ac-9b41-370f468ab6a5",
   "metadata": {
    "execution": {
     "iopub.execute_input": "2022-06-27T17:22:25.889357Z",
     "iopub.status.busy": "2022-06-27T17:22:25.889217Z",
     "iopub.status.idle": "2022-06-27T17:22:26.014072Z",
     "shell.execute_reply": "2022-06-27T17:22:26.013564Z",
     "shell.execute_reply.started": "2022-06-27T17:22:25.889344Z"
    },
    "tags": []
   },
   "outputs": [],
   "source": [
    "df_result = df.loc[:, ['ride_id', 'pred']]"
   ]
  },
  {
   "cell_type": "code",
   "execution_count": 10,
   "id": "4bb3e798-7df2-4ad3-bb3b-8f38859f2466",
   "metadata": {
    "execution": {
     "iopub.execute_input": "2022-06-27T17:22:26.014824Z",
     "iopub.status.busy": "2022-06-27T17:22:26.014684Z",
     "iopub.status.idle": "2022-06-27T17:22:26.216334Z",
     "shell.execute_reply": "2022-06-27T17:22:26.215638Z",
     "shell.execute_reply.started": "2022-06-27T17:22:26.014810Z"
    },
    "tags": []
   },
   "outputs": [],
   "source": [
    "df_result.to_parquet(\n",
    "    output_file,\n",
    "    engine='pyarrow',\n",
    "    compression=None,\n",
    "    index=False\n",
    ")"
   ]
  },
  {
   "cell_type": "code",
   "execution_count": 11,
   "id": "d7238110-66cf-46be-9efd-ffe5c7b980a3",
   "metadata": {
    "execution": {
     "iopub.execute_input": "2022-06-27T17:22:26.217628Z",
     "iopub.status.busy": "2022-06-27T17:22:26.217287Z",
     "iopub.status.idle": "2022-06-27T17:22:26.222826Z",
     "shell.execute_reply": "2022-06-27T17:22:26.221850Z",
     "shell.execute_reply.started": "2022-06-27T17:22:26.217601Z"
    },
    "tags": []
   },
   "outputs": [
    {
     "name": "stdout",
     "output_type": "stream",
     "text": [
      "Size of the file is 18.8 MB\n"
     ]
    }
   ],
   "source": [
    "from pathlib import Path\n",
    "file_size = Path('predictions').stat().st_size\n",
    "print(f'Size of the file is {round(file_size/1024**2, 2)} MB')"
   ]
  },
  {
   "cell_type": "markdown",
   "id": "0e56d047-ddb0-47f7-bf48-ffdfdd447737",
   "metadata": {},
   "source": [
    "## Q3. Creating the scoring script"
   ]
  },
  {
   "cell_type": "markdown",
   "id": "99535362-97b9-4822-a9b2-a3a6846b53c2",
   "metadata": {
    "execution": {
     "iopub.execute_input": "2022-06-26T20:38:20.318570Z",
     "iopub.status.busy": "2022-06-26T20:38:20.318406Z",
     "iopub.status.idle": "2022-06-26T20:38:20.323478Z",
     "shell.execute_reply": "2022-06-26T20:38:20.322681Z",
     "shell.execute_reply.started": "2022-06-26T20:38:20.318556Z"
    }
   },
   "source": [
    "jupyter nbconvert \"starter.ipynb\" --to script --output ride_duration"
   ]
  },
  {
   "cell_type": "markdown",
   "id": "7b9fc7e7-ec3f-4477-83a3-ac4af54470a8",
   "metadata": {},
   "source": [
    "## Q4. Virtual environment"
   ]
  },
  {
   "cell_type": "markdown",
   "id": "cc14f8dc-f0bc-42c8-9341-654b147637eb",
   "metadata": {},
   "source": [
    "\"sha256:08ef968f6b72033c16c479c966bf37ccd49b06ea91b765e1cc27afefe723920b\""
   ]
  },
  {
   "cell_type": "markdown",
   "id": "df9fc93a-dc26-4123-87b1-433ea1e5acf2",
   "metadata": {
    "tags": []
   },
   "source": [
    "## Q5.Parameterize the script "
   ]
  },
  {
   "cell_type": "code",
   "execution_count": 12,
   "id": "200c9c36-1c96-499e-99e9-93f96e69d09e",
   "metadata": {
    "execution": {
     "iopub.execute_input": "2022-06-27T17:22:26.223902Z",
     "iopub.status.busy": "2022-06-27T17:22:26.223700Z",
     "iopub.status.idle": "2022-06-27T17:22:33.167232Z",
     "shell.execute_reply": "2022-06-27T17:22:33.166778Z",
     "shell.execute_reply.started": "2022-06-27T17:22:26.223876Z"
    },
    "tags": []
   },
   "outputs": [
    {
     "name": "stdout",
     "output_type": "stream",
     "text": [
      "16.298821614015107\n"
     ]
    }
   ],
   "source": [
    "%run predict.py 2021 03"
   ]
  },
  {
   "cell_type": "markdown",
   "id": "f8687c6c-17c5-4525-90e9-cf97eb193313",
   "metadata": {},
   "source": [
    "## Q6. Docker container"
   ]
  },
  {
   "cell_type": "code",
   "execution_count": 13,
   "id": "99a7330f-282e-43e8-8693-a06e94019047",
   "metadata": {
    "execution": {
     "iopub.execute_input": "2022-06-27T17:22:33.167952Z",
     "iopub.status.busy": "2022-06-27T17:22:33.167805Z",
     "iopub.status.idle": "2022-06-27T17:22:39.755416Z",
     "shell.execute_reply": "2022-06-27T17:22:39.755028Z",
     "shell.execute_reply.started": "2022-06-27T17:22:33.167938Z"
    },
    "tags": []
   },
   "outputs": [
    {
     "name": "stdout",
     "output_type": "stream",
     "text": [
      "16.551162930515858\n"
     ]
    }
   ],
   "source": [
    "%run predict.py 2021 04"
   ]
  }
 ],
 "metadata": {
  "kernelspec": {
   "display_name": "mlops-zoomcamp",
   "language": "python",
   "name": "mlops-zoomcamp"
  },
  "language_info": {
   "codemirror_mode": {
    "name": "ipython",
    "version": 3
   },
   "file_extension": ".py",
   "mimetype": "text/x-python",
   "name": "python",
   "nbconvert_exporter": "python",
   "pygments_lexer": "ipython3",
   "version": "3.9.12"
  }
 },
 "nbformat": 4,
 "nbformat_minor": 5
}
